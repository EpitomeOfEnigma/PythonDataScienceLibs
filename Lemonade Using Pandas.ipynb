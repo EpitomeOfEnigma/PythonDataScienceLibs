{
 "cells": [
  {
   "cell_type": "raw",
   "metadata": {},
   "source": [
    "https://medium.com/@wbusaka/a-gentle-introduction-to-pandas-5ed17421a59d\n",
    "\n",
    "1) Go to https://github.com/wbusaka/Lemonade and pull the Lemonade dataset in .xlsx format. It contains 366 rows and 11 columns. The data is generated from a Lemonade stand sales collected from January to December for the year 2017.\n",
    "\n",
    "2) Open the Lemonade.xlsx’ file in Ms Excel.\n",
    "\n",
    "3) Convert the ‘Lemonade.xlsx’ dataset to ‘.csv’ and save it on your computer.\n",
    "\n",
    "4) Import Pandas.\n",
    "\n",
    "5) Import the new ‘Lemonade.csv’ file into python.\n",
    "\n",
    "6) Slice the dataset from 245 to 321 and store in it a new variable called ‘sliced_data’.\n",
    "\n",
    "7) Filter the data for to obtain for only the month of ‘August’ and store it in a new variable called ‘August’.\n",
    "\n",
    "8) Perform a summary statistics for the month of August (i.e. mean, max, median, standard deviation etc.)."
   ]
  },
  {
   "cell_type": "code",
   "execution_count": 36,
   "metadata": {},
   "outputs": [],
   "source": [
    "#importing required libraries\n",
    "import pandas as pd\n",
    "import numpy as np"
   ]
  },
  {
   "cell_type": "code",
   "execution_count": 37,
   "metadata": {},
   "outputs": [],
   "source": [
    "#importing dataset csv file\n",
    "url =\"Lemonade.csv\"\n",
    "#names = ['sepal-length', 'sepal-width', 'petal-length','petal-width', 'class']"
   ]
  },
  {
   "cell_type": "code",
   "execution_count": 38,
   "metadata": {},
   "outputs": [],
   "source": [
    "#making dataset readble by pandas\n",
    "dataset= pd.read_csv(url)"
   ]
  },
  {
   "cell_type": "code",
   "execution_count": 39,
   "metadata": {},
   "outputs": [],
   "source": [
    "#creating dataframe from the csv file\n",
    "df = pd.DataFrame(dataset)"
   ]
  },
  {
   "cell_type": "code",
   "execution_count": 40,
   "metadata": {},
   "outputs": [],
   "source": [
    "#slicing as in step 6)\n",
    "sliced_data = df.loc[245:321, :]\n",
    "#print(sliced_data)"
   ]
  },
  {
   "cell_type": "code",
   "execution_count": 41,
   "metadata": {},
   "outputs": [],
   "source": [
    "#selection by position as in step 7)\n",
    "August = sliced_data[sliced_data['Month']=='August']\n",
    "#print(August)"
   ]
  },
  {
   "cell_type": "code",
   "execution_count": 42,
   "metadata": {},
   "outputs": [
    {
     "name": "stdout",
     "output_type": "stream",
     "text": [
      "Mean:  Temperature    72.614815\n",
      "Rainfall        0.638148\n",
      "Flyers         49.037037\n",
      "Price           0.500000\n",
      "Sales          30.444444\n",
      "Unnamed: 9           NaN\n",
      "dtype: float64\n",
      "----------------------------------------\n",
      "Max:  Date            8/9/2017\n",
      "Month             August\n",
      "Day            Wednesday\n",
      "Temperature         79.6\n",
      "Rainfall            0.67\n",
      "Flyers                66\n",
      "Price                0.5\n",
      "Sales                 32\n",
      "Revenue         $ 16.00 \n",
      "Unnamed: 9          None\n",
      "Unnamed: 10         None\n",
      "dtype: object\n",
      "----------------------------------------\n",
      "Min:  Date            8/1/2017\n",
      "Month             August\n",
      "Day               Friday\n",
      "Temperature         65.7\n",
      "Rainfall            0.59\n",
      "Flyers                33\n",
      "Price                0.5\n",
      "Sales                 29\n",
      "Revenue         $ 14.50 \n",
      "Unnamed: 9          None\n",
      "Unnamed: 10         None\n",
      "dtype: object\n",
      "----------------------------------------\n",
      "Standard Deviation:  Temperature    3.756298\n",
      "Rainfall       0.020198\n",
      "Flyers         7.623251\n",
      "Price          0.000000\n",
      "Sales          1.050031\n",
      "Unnamed: 9          NaN\n",
      "dtype: float64\n",
      "----------------------------------------\n"
     ]
    }
   ],
   "source": [
    "#statistics for month of August as in step 8)\n",
    "\n",
    "print(\"Mean: \", August.mean())\n",
    "print(\"----------------------------------------\")\n",
    "print(\"Max: \", August.max())\n",
    "print(\"----------------------------------------\")\n",
    "print(\"Min: \", August.min())\n",
    "print(\"----------------------------------------\")\n",
    "print(\"Standard Deviation: \", August.std())\n",
    "print(\"----------------------------------------\")\n"
   ]
  },
  {
   "cell_type": "code",
   "execution_count": null,
   "metadata": {},
   "outputs": [],
   "source": []
  }
 ],
 "metadata": {
  "kernelspec": {
   "display_name": "Python 3",
   "language": "python",
   "name": "python3"
  },
  "language_info": {
   "codemirror_mode": {
    "name": "ipython",
    "version": 3
   },
   "file_extension": ".py",
   "mimetype": "text/x-python",
   "name": "python",
   "nbconvert_exporter": "python",
   "pygments_lexer": "ipython3",
   "version": "3.6.5"
  }
 },
 "nbformat": 4,
 "nbformat_minor": 2
}
